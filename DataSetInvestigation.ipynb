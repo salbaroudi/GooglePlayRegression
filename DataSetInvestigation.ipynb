{
 "cells": [
  {
   "cell_type": "code",
   "execution_count": 1,
   "metadata": {},
   "outputs": [],
   "source": [
    "from src.seanmod import *"
   ]
  },
  {
   "cell_type": "code",
   "execution_count": 16,
   "metadata": {},
   "outputs": [],
   "source": [
    "gpsDF = pd.read_csv(\"./data/googleplaystore.csv\")"
   ]
  },
  {
   "cell_type": "code",
   "execution_count": 17,
   "metadata": {},
   "outputs": [
    {
     "name": "stdout",
     "output_type": "stream",
     "text": [
      "<class 'pandas.core.frame.DataFrame'>\n",
      "RangeIndex: 10841 entries, 0 to 10840\n",
      "Data columns (total 13 columns):\n",
      "App               10841 non-null object\n",
      "Category          10841 non-null object\n",
      "Rating            9367 non-null float64\n",
      "Reviews           10841 non-null object\n",
      "Size              10841 non-null object\n",
      "Installs          10841 non-null object\n",
      "Type              10840 non-null object\n",
      "Price             10841 non-null object\n",
      "Content Rating    10840 non-null object\n",
      "Genres            10841 non-null object\n",
      "Last Updated      10841 non-null object\n",
      "Current Ver       10833 non-null object\n",
      "Android Ver       10838 non-null object\n",
      "dtypes: float64(1), object(12)\n",
      "memory usage: 1.1+ MB\n"
     ]
    },
    {
     "data": {
      "text/plain": [
       "(10841, 13)"
      ]
     },
     "execution_count": 17,
     "metadata": {},
     "output_type": "execute_result"
    },
    {
     "data": {
      "text/plain": [
       "1487"
      ]
     },
     "execution_count": 17,
     "metadata": {},
     "output_type": "execute_result"
    }
   ],
   "source": [
    "gpsDF.info()\n",
    "gpsDF.shape\n",
    "#We see that the rating catagory has some potential null values.\n",
    "#A few of the other columns have just a few nulls. As we need rating values as our output value for regression\n",
    "#we should just dump all NAs. Most losses are on useles ratings cells that can't be used anyways\n",
    "gpsDF.isnull().values.sum()\n",
    "#headtailcsvs(\"./data\",n=3)"
   ]
  },
  {
   "cell_type": "code",
   "execution_count": 18,
   "metadata": {},
   "outputs": [
    {
     "name": "stdout",
     "output_type": "stream",
     "text": [
      "0.13661101374411955\n",
      "<class 'pandas.core.frame.DataFrame'>\n",
      "Int64Index: 9360 entries, 0 to 10840\n",
      "Data columns (total 13 columns):\n",
      "App               9360 non-null object\n",
      "Category          9360 non-null object\n",
      "Rating            9360 non-null float64\n",
      "Reviews           9360 non-null object\n",
      "Size              9360 non-null object\n",
      "Installs          9360 non-null object\n",
      "Type              9360 non-null object\n",
      "Price             9360 non-null object\n",
      "Content Rating    9360 non-null object\n",
      "Genres            9360 non-null object\n",
      "Last Updated      9360 non-null object\n",
      "Current Ver       9360 non-null object\n",
      "Android Ver       9360 non-null object\n",
      "dtypes: float64(1), object(12)\n",
      "memory usage: 1023.8+ KB\n"
     ]
    }
   ],
   "source": [
    "gpsDF.dropna(axis=0,inplace=True,how=\"any\")\n",
    "print(str((10841 - gpsDF.shape[0])/10841))\n",
    "#percentage loss of data from our simple NA drop.\n",
    "#check consistency with info method:\n",
    "gpsDF.info()\n",
    "#all good!\n",
    "#rekey our indicies for later:\n",
    "gpsDF.reset_index(drop=True, inplace=True)\n"
   ]
  },
  {
   "cell_type": "code",
   "execution_count": 20,
   "metadata": {},
   "outputs": [
    {
     "data": {
      "text/html": [
       "<div>\n",
       "<style scoped>\n",
       "    .dataframe tbody tr th:only-of-type {\n",
       "        vertical-align: middle;\n",
       "    }\n",
       "\n",
       "    .dataframe tbody tr th {\n",
       "        vertical-align: top;\n",
       "    }\n",
       "\n",
       "    .dataframe thead th {\n",
       "        text-align: right;\n",
       "    }\n",
       "</style>\n",
       "<table border=\"1\" class=\"dataframe\">\n",
       "  <thead>\n",
       "    <tr style=\"text-align: right;\">\n",
       "      <th></th>\n",
       "      <th>App</th>\n",
       "      <th>Category</th>\n",
       "      <th>Rating</th>\n",
       "      <th>Reviews</th>\n",
       "      <th>Size</th>\n",
       "      <th>Installs</th>\n",
       "      <th>Type</th>\n",
       "      <th>Price</th>\n",
       "      <th>Content Rating</th>\n",
       "      <th>Genres</th>\n",
       "      <th>Last Updated</th>\n",
       "      <th>Current Ver</th>\n",
       "      <th>Android Ver</th>\n",
       "    </tr>\n",
       "  </thead>\n",
       "  <tbody>\n",
       "    <tr>\n",
       "      <th>0</th>\n",
       "      <td>Photo Editor &amp; Candy Camera &amp; Grid &amp; ScrapBook</td>\n",
       "      <td>ART_AND_DESIGN</td>\n",
       "      <td>4.1</td>\n",
       "      <td>159</td>\n",
       "      <td>19M</td>\n",
       "      <td>10,000+</td>\n",
       "      <td>Free</td>\n",
       "      <td>0</td>\n",
       "      <td>Everyone</td>\n",
       "      <td>Art &amp; Design</td>\n",
       "      <td>January 7, 2018</td>\n",
       "      <td>1.0.0</td>\n",
       "      <td>4.0.3 and up</td>\n",
       "    </tr>\n",
       "    <tr>\n",
       "      <th>1</th>\n",
       "      <td>Coloring book moana</td>\n",
       "      <td>ART_AND_DESIGN</td>\n",
       "      <td>3.9</td>\n",
       "      <td>967</td>\n",
       "      <td>14M</td>\n",
       "      <td>500,000+</td>\n",
       "      <td>Free</td>\n",
       "      <td>0</td>\n",
       "      <td>Everyone</td>\n",
       "      <td>Art &amp; Design;Pretend Play</td>\n",
       "      <td>January 15, 2018</td>\n",
       "      <td>2.0.0</td>\n",
       "      <td>4.0.3 and up</td>\n",
       "    </tr>\n",
       "    <tr>\n",
       "      <th>2</th>\n",
       "      <td>U Launcher Lite – FREE Live Cool Themes, Hide ...</td>\n",
       "      <td>ART_AND_DESIGN</td>\n",
       "      <td>4.7</td>\n",
       "      <td>87510</td>\n",
       "      <td>8.7M</td>\n",
       "      <td>5,000,000+</td>\n",
       "      <td>Free</td>\n",
       "      <td>0</td>\n",
       "      <td>Everyone</td>\n",
       "      <td>Art &amp; Design</td>\n",
       "      <td>August 1, 2018</td>\n",
       "      <td>1.2.4</td>\n",
       "      <td>4.0.3 and up</td>\n",
       "    </tr>\n",
       "    <tr>\n",
       "      <th>3</th>\n",
       "      <td>Sketch - Draw &amp; Paint</td>\n",
       "      <td>ART_AND_DESIGN</td>\n",
       "      <td>4.5</td>\n",
       "      <td>215644</td>\n",
       "      <td>25M</td>\n",
       "      <td>50,000,000+</td>\n",
       "      <td>Free</td>\n",
       "      <td>0</td>\n",
       "      <td>Teen</td>\n",
       "      <td>Art &amp; Design</td>\n",
       "      <td>June 8, 2018</td>\n",
       "      <td>Varies with device</td>\n",
       "      <td>4.2 and up</td>\n",
       "    </tr>\n",
       "    <tr>\n",
       "      <th>4</th>\n",
       "      <td>Pixel Draw - Number Art Coloring Book</td>\n",
       "      <td>ART_AND_DESIGN</td>\n",
       "      <td>4.3</td>\n",
       "      <td>967</td>\n",
       "      <td>2.8M</td>\n",
       "      <td>100,000+</td>\n",
       "      <td>Free</td>\n",
       "      <td>0</td>\n",
       "      <td>Everyone</td>\n",
       "      <td>Art &amp; Design;Creativity</td>\n",
       "      <td>June 20, 2018</td>\n",
       "      <td>1.1</td>\n",
       "      <td>4.4 and up</td>\n",
       "    </tr>\n",
       "  </tbody>\n",
       "</table>\n",
       "</div>"
      ],
      "text/plain": [
       "                                                 App        Category  Rating Reviews  Size     Installs  Type Price Content Rating                     Genres      Last Updated         Current Ver   Android Ver\n",
       "0     Photo Editor & Candy Camera & Grid & ScrapBook  ART_AND_DESIGN     4.1     159   19M      10,000+  Free     0       Everyone               Art & Design   January 7, 2018               1.0.0  4.0.3 and up\n",
       "1                                Coloring book moana  ART_AND_DESIGN     3.9     967   14M     500,000+  Free     0       Everyone  Art & Design;Pretend Play  January 15, 2018               2.0.0  4.0.3 and up\n",
       "2  U Launcher Lite – FREE Live Cool Themes, Hide ...  ART_AND_DESIGN     4.7   87510  8.7M   5,000,000+  Free     0       Everyone               Art & Design    August 1, 2018               1.2.4  4.0.3 and up\n",
       "3                              Sketch - Draw & Paint  ART_AND_DESIGN     4.5  215644   25M  50,000,000+  Free     0           Teen               Art & Design      June 8, 2018  Varies with device    4.2 and up\n",
       "4              Pixel Draw - Number Art Coloring Book  ART_AND_DESIGN     4.3     967  2.8M     100,000+  Free     0       Everyone    Art & Design;Creativity     June 20, 2018                 1.1    4.4 and up"
      ]
     },
     "execution_count": 20,
     "metadata": {},
     "output_type": "execute_result"
    }
   ],
   "source": [
    "#We have lots of numeric columns...they are trapped in string types.\n",
    "#lets convert over our Reviews, Size, Installs, price\n",
    "gpsDF.head()"
   ]
  },
  {
   "cell_type": "code",
   "execution_count": 19,
   "metadata": {},
   "outputs": [
    {
     "name": "stdout",
     "output_type": "stream",
     "text": [
      "Guide: Blue lines indicate max/min value. Red Lines indicate cutoff of outliers.\n"
     ]
    },
    {
     "data": {
      "application/javascript": [
       "var spec = {\"config\": {\"view\": {\"width\": 400, \"height\": 300}, \"mark\": {\"tooltip\": null}}, \"layer\": [{\"data\": {\"name\": \"data-333c5dfa6455a60c32ed66377e6e2173\"}, \"mark\": {\"type\": \"boxplot\", \"clip\": true, \"extent\": 1.5, \"size\": 35}, \"encoding\": {\"x\": {\"type\": \"quantitative\", \"axis\": {\"title\": \" \"}, \"field\": \"datum\", \"scale\": {\"domain\": [3.4, 5.2], \"zero\": false}}, \"y\": {\"type\": \"ordinal\", \"axis\": {\"title\": \" \"}, \"field\": \"Rating\"}}, \"height\": 100, \"width\": 400}, {\"data\": {\"name\": \"data-333c5dfa6455a60c32ed66377e6e2173\"}, \"mark\": {\"type\": \"rule\", \"color\": \"red\"}, \"encoding\": {\"size\": {\"value\": 3}, \"x\": {\"type\": \"quantitative\", \"field\": \"outlierL\"}}}, {\"data\": {\"name\": \"data-333c5dfa6455a60c32ed66377e6e2173\"}, \"mark\": {\"type\": \"rule\", \"color\": \"blue\"}, \"encoding\": {\"size\": {\"value\": 3}, \"x\": {\"type\": \"quantitative\", \"field\": \"max\"}}}], \"$schema\": \"https://vega.github.io/schema/vega-lite/v3.2.1.json\", \"datasets\": {\"data-333c5dfa6455a60c32ed66377e6e2173\": [{\"Rating\": \"Rating\", \"datum\": 3.55, \"outlierL\": 3.55, \"max\": 5.0}, {\"Rating\": \"Rating\", \"datum\": 4.0, \"outlierL\": 3.55, \"max\": 5.0}, {\"Rating\": \"Rating\", \"datum\": 4.3, \"outlierL\": 3.55, \"max\": 5.0}, {\"Rating\": \"Rating\", \"datum\": 4.5, \"outlierL\": 3.55, \"max\": 5.0}, {\"Rating\": \"Rating\", \"datum\": 5.05, \"outlierL\": 3.55, \"max\": 5.0}]}};\n",
       "var opt = {};\n",
       "var type = \"vega-lite\";\n",
       "var id = \"922f7a9c-6807-4d03-add2-cea870cd77a1\";\n",
       "\n",
       "var output_area = this;\n",
       "\n",
       "require([\"nbextensions/jupyter-vega/index\"], function(vega) {\n",
       "  var target = document.createElement(\"div\");\n",
       "  target.id = id;\n",
       "  target.className = \"vega-embed\";\n",
       "\n",
       "  var style = document.createElement(\"style\");\n",
       "  style.textContent = [\n",
       "    \".vega-embed .error p {\",\n",
       "    \"  color: firebrick;\",\n",
       "    \"  font-size: 14px;\",\n",
       "    \"}\",\n",
       "  ].join(\"\\\\n\");\n",
       "\n",
       "  // element is a jQuery wrapped DOM element inside the output area\n",
       "  // see http://ipython.readthedocs.io/en/stable/api/generated/\\\n",
       "  // IPython.display.html#IPython.display.Javascript.__init__\n",
       "  element[0].appendChild(target);\n",
       "  element[0].appendChild(style);\n",
       "\n",
       "  vega.render(\"#\" + id, spec, type, opt, output_area);\n",
       "}, function (err) {\n",
       "  if (err.requireType !== \"scripterror\") {\n",
       "    throw(err);\n",
       "  }\n",
       "});\n"
      ],
      "text/plain": [
       "<vega.vegalite.VegaLite at 0x7ff5a1f226a0>"
      ]
     },
     "metadata": {
      "jupyter-vega": "#922f7a9c-6807-4d03-add2-cea870cd77a1"
     },
     "output_type": "display_data"
    },
    {
     "data": {
      "text/plain": []
     },
     "execution_count": 19,
     "metadata": {},
     "output_type": "execute_result"
    },
    {
     "data": {
      "text/plain": [
       "[1.0, 5.0]"
      ]
     },
     "execution_count": 19,
     "metadata": {},
     "output_type": "execute_result"
    },
    {
     "data": {
      "image/png": "[encoded data removed]"
     },
     "metadata": {
      "jupyter-vega": "#922f7a9c-6807-4d03-add2-cea870cd77a1"
     },
     "output_type": "display_data"
    }
   ],
   "source": [
    "#Do this later!\n",
    "boxplotblast(gpsDF)\n",
    "[gpsDF[\"Rating\"].min(),gpsDF[\"Rating\"].max()]"
   ]
  },
  {
   "cell_type": "markdown",
   "metadata": {},
   "source": [
    "## Converting Object Columns to Numerical Columns:\n",
    "\n",
    "In particular, the Reviews, Size, Installs and Prices seem to be open to this. Lets first look at their range of values, to see if there are any outliers:"
   ]
  },
  {
   "cell_type": "markdown",
   "metadata": {},
   "source": [
    "### Reviews Column:"
   ]
  },
  {
   "cell_type": "code",
   "execution_count": 19,
   "metadata": {},
   "outputs": [
    {
     "data": {
      "text/plain": [
       "False    10841\n",
       "Name: Reviews, dtype: int64"
      ]
     },
     "execution_count": 19,
     "metadata": {},
     "output_type": "execute_result"
    }
   ],
   "source": []
  },
  {
   "cell_type": "code",
   "execution_count": 22,
   "metadata": {},
   "outputs": [],
   "source": [
    "#Lets convert to integers:\n",
    "gpsDF[\"Reviews\"] = gpsDF[\"Reviews\"].astype(\"int32\")    \n"
   ]
  },
  {
   "cell_type": "code",
   "execution_count": 26,
   "metadata": {},
   "outputs": [
    {
     "data": {
      "text/plain": [
       "dtype('int32')"
      ]
     },
     "execution_count": 26,
     "metadata": {},
     "output_type": "execute_result"
    },
    {
     "data": {
      "text/plain": [
       "[1, 78158306]"
      ]
     },
     "execution_count": 26,
     "metadata": {},
     "output_type": "execute_result"
    },
    {
     "data": {
      "text/plain": [
       "9360"
      ]
     },
     "execution_count": 26,
     "metadata": {},
     "output_type": "execute_result"
    }
   ],
   "source": [
    "gpsDF[\"Reviews\"].dtype\n",
    "[gpsDF[\"Reviews\"].min(),gpsDF[\"Reviews\"].max()]\n",
    "gpsDF[\"Reviews\"].isnull().count() #No NAs were introduced, we still have 9360 non-NA values"
   ]
  },
  {
   "cell_type": "markdown",
   "metadata": {},
   "source": [
    "### Size Column:\n",
    "\n",
    "So lets take a look. We immediately see that there are entries with the value \"Varies with Device.\" We lose another 10-20% of the data if we drop. Leave this for now. \n"
   ]
  },
  {
   "cell_type": "code",
   "execution_count": 32,
   "metadata": {},
   "outputs": [
    {
     "data": {
      "text/plain": [
       "False    7723\n",
       "True     1637\n",
       "Name: Size, dtype: int64"
      ]
     },
     "execution_count": 32,
     "metadata": {},
     "output_type": "execute_result"
    }
   ],
   "source": [
    "(gpsDF[\"Size\"] == \"Varies with device\").value_counts()"
   ]
  },
  {
   "cell_type": "markdown",
   "metadata": {},
   "source": [
    "### Installs:\n",
    "\n",
    "Lets take a look. "
   ]
  },
  {
   "cell_type": "code",
   "execution_count": 36,
   "metadata": {},
   "outputs": [
    {
     "data": {
      "text/plain": [
       "1787    100,000,000+\n",
       "568         100,000+\n",
       "9182          1,000+\n",
       "8548        100,000+\n",
       "3130     10,000,000+\n",
       "7431      5,000,000+\n",
       "4990            100+\n",
       "5099        100,000+\n",
       "3647      1,000,000+\n",
       "8369      1,000,000+\n",
       "Name: Installs, dtype: object"
      ]
     },
     "execution_count": 36,
     "metadata": {},
     "output_type": "execute_result"
    }
   ],
   "source": [
    "gpsDF[\"Installs\"].sample(n=10)"
   ]
  },
  {
   "cell_type": "code",
   "execution_count": 38,
   "metadata": {},
   "outputs": [
    {
     "data": {
      "text/plain": [
       "0       10000\n",
       "1      500000\n",
       "2     5000000\n",
       "3    50000000\n",
       "4      100000\n",
       "Name: Installs, dtype: object"
      ]
     },
     "execution_count": 38,
     "metadata": {},
     "output_type": "execute_result"
    }
   ],
   "source": [
    "#We have to remove commas and plus symbols. Use apply and string replace:\n",
    "\n",
    "def installrep(x):\n",
    "    hold = x.replace(\",\",\"\")\n",
    "    return hold.replace(\"+\",\"\")\n",
    "\n",
    "gpsDF[\"Installs\"] = gpsDF[\"Installs\"].apply(installrep)\n",
    "gpsDF[\"Installs\"] = gpsDF[\"Installs\"].astype(\"int32\")\n"
   ]
  },
  {
   "cell_type": "markdown",
   "metadata": {},
   "source": [
    "### Prices:"
   ]
  },
  {
   "cell_type": "code",
   "execution_count": 43,
   "metadata": {},
   "outputs": [
    {
     "data": {
      "text/plain": [
       "6042          0\n",
       "6653          0\n",
       "5412          0\n",
       "4392          0\n",
       "9200          0\n",
       "4675          0\n",
       "6330          0\n",
       "4189    $399.99\n",
       "4244      $1.99\n",
       "1774          0\n",
       "626           0\n",
       "5046    $299.99\n",
       "5482          0\n",
       "606           0\n",
       "4419      $4.99\n",
       "8760          0\n",
       "6360          0\n",
       "3285          0\n",
       "5795          0\n",
       "70            0\n",
       "1038          0\n",
       "2508          0\n",
       "5612          0\n",
       "4086          0\n",
       "4117          0\n",
       "8064      $4.99\n",
       "2430          0\n",
       "5669          0\n",
       "817           0\n",
       "3689          0\n",
       "3803      $1.99\n",
       "3840          0\n",
       "227           0\n",
       "7859          0\n",
       "8276          0\n",
       "8375          0\n",
       "5833          0\n",
       "5127          0\n",
       "7854          0\n",
       "4410          0\n",
       "8485          0\n",
       "1978      $3.99\n",
       "8656          0\n",
       "3548          0\n",
       "9173          0\n",
       "2148          0\n",
       "7224          0\n",
       "6815          0\n",
       "407           0\n",
       "2676          0\n",
       "Name: Price, dtype: object"
      ]
     },
     "execution_count": 43,
     "metadata": {},
     "output_type": "execute_result"
    }
   ],
   "source": [
    "gpsDF[\"Price\"].sample(n=50)"
   ]
  },
  {
   "cell_type": "code",
   "execution_count": 44,
   "metadata": {},
   "outputs": [
    {
     "data": {
      "text/plain": [
       "3795      0.00000\n",
       "8792      0.99000\n",
       "2030      0.00000\n",
       "2479      0.00000\n",
       "3444      0.00000\n",
       "5909      0.00000\n",
       "3135      0.00000\n",
       "2870      0.00000\n",
       "2366      0.00000\n",
       "8970      0.00000\n",
       "7046      0.00000\n",
       "6014      0.00000\n",
       "8597      0.00000\n",
       "2962      0.00000\n",
       "3914      0.00000\n",
       "2125      0.00000\n",
       "5049    399.98999\n",
       "4096      0.99000\n",
       "9031      0.00000\n",
       "8882      0.00000\n",
       "7708      1.99000\n",
       "7795      0.00000\n",
       "5226      0.00000\n",
       "3384      0.00000\n",
       "7646      0.00000\n",
       "Name: Price, dtype: float32"
      ]
     },
     "execution_count": 44,
     "metadata": {},
     "output_type": "execute_result"
    }
   ],
   "source": [
    "#get rid of the dollar sign, and convert to float32.\n",
    "\n",
    "gpsDF[\"Price\"] = gpsDF[\"Price\"].apply(lambda x: x.replace(\"$\",\"\"))\n",
    "gpsDF[\"Price\"] = gpsDF[\"Price\"].astype(\"float32\")\n",
    "#gpsDF[\"Price\"].sample(n=25)\n",
    "\n",
    "    "
   ]
  },
  {
   "cell_type": "markdown",
   "metadata": {},
   "source": [
    "## Looking at Categorial Data: Category and Genre"
   ]
  },
  {
   "cell_type": "markdown",
   "metadata": {},
   "source": [
    "### Category:\n",
    "\n",
    "For our first simple regression, lets look at just the category variable. It has only 33 distinct values. This will allow for simpler one hot encoding"
   ]
  },
  {
   "cell_type": "code",
   "execution_count": 57,
   "metadata": {},
   "outputs": [
    {
     "data": {
      "text/plain": [
       "(33,)"
      ]
     },
     "execution_count": 57,
     "metadata": {},
     "output_type": "execute_result"
    }
   ],
   "source": [
    "gpsDF[\"Category\"].value_counts().shape"
   ]
  },
  {
   "cell_type": "code",
   "execution_count": 56,
   "metadata": {},
   "outputs": [
    {
     "data": {
      "text/plain": [
       "(115,)"
      ]
     },
     "execution_count": 56,
     "metadata": {},
     "output_type": "execute_result"
    }
   ],
   "source": [
    "gpsDF[\"Genres\"].value_counts().shape #Perhaps a few too many of these. I'll Leave it for now"
   ]
  },
  {
   "cell_type": "code",
   "execution_count": null,
   "metadata": {},
   "outputs": [],
   "source": []
  },
  {
   "cell_type": "code",
   "execution_count": null,
   "metadata": {},
   "outputs": [],
   "source": []
  },
  {
   "cell_type": "markdown",
   "metadata": {},
   "source": [
    "## Basic Regression:\n",
    "\n",
    "Using SKlearn, lets feed all of our integer/float numerical features into a simpleLinear Regression Model!"
   ]
  },
  {
   "cell_type": "code",
   "execution_count": null,
   "metadata": {},
   "outputs": [],
   "source": []
  },
  {
   "cell_type": "code",
   "execution_count": null,
   "metadata": {},
   "outputs": [],
   "source": []
  },
  {
   "cell_type": "code",
   "execution_count": null,
   "metadata": {},
   "outputs": [],
   "source": []
  },
  {
   "cell_type": "code",
   "execution_count": null,
   "metadata": {},
   "outputs": [],
   "source": []
  },
  {
   "cell_type": "code",
   "execution_count": null,
   "metadata": {},
   "outputs": [],
   "source": []
  },
  {
   "cell_type": "code",
   "execution_count": null,
   "metadata": {},
   "outputs": [],
   "source": []
  },
  {
   "cell_type": "code",
   "execution_count": null,
   "metadata": {},
   "outputs": [],
   "source": []
  },
  {
   "cell_type": "code",
   "execution_count": null,
   "metadata": {},
   "outputs": [],
   "source": []
  }
 ],
 "metadata": {
  "kernelspec": {
   "display_name": "Python 3",
   "language": "python",
   "name": "python3"
  },
  "language_info": {
   "codemirror_mode": {
    "name": "ipython",
    "version": 3
   },
   "file_extension": ".py",
   "mimetype": "text/x-python",
   "name": "python",
   "nbconvert_exporter": "python",
   "pygments_lexer": "ipython3",
   "version": "3.7.2"
  }
 },
 "nbformat": 4,
 "nbformat_minor": 2
}
